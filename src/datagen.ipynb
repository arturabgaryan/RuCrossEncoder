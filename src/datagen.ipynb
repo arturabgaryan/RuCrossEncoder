{
 "cells": [
  {
   "cell_type": "code",
   "execution_count": null,
   "id": "4d511e91",
   "metadata": {},
   "outputs": [],
   "source": [
    "import ollama\n",
    "from pydantic import BaseModel\n",
    "import pandas as pd"
   ]
  },
  {
   "cell_type": "code",
   "execution_count": null,
   "id": "731cb2ce",
   "metadata": {},
   "outputs": [],
   "source": [
    "class Output(BaseModel):\n",
    "  query: str\n",
    "  positive: str\n",
    "  negative: str\n",
    "\n",
    "options = {\n",
    "    'temperature': 0.7,\n",
    "    'top-p': 0.9\n",
    "}\n",
    "\n",
    "content = \"\"\"\n",
    "Вывод осуществляется ТОЛЬКО на Русском языке, никаком больше\n",
    "\n",
    "Ты продвинутый ML инженер\n",
    "\n",
    "Твоя задача сгенерировать данные для обучения кросс энкодера. Данные должны выглядеть следующим образом:\n",
    "1) генерируешь любой вопрос на абсолютно любую тему\n",
    "2) генерируешь ответ на этот вопрос, правильный\n",
    "3) генерируешь неправильный ответ, который должен быть на совсем другой вопрос, совершенно не связанный\n",
    "\n",
    "\n",
    "Формат вывода:\n",
    "Это должен быть вывод в формате JSON, который выглядит следующим образом(далее шаблон):\n",
    "{{'query': Сгенерированный вопрос из пункта 1,'positive': сгенерированный правильный ответ из пункта 2, 'negative': сгенерированный неправильный ответ из пункта 3}}\n",
    "\n",
    "НЕ ВЫВОДИ НИЧЕГО КРОМЕ ШАБЛОНА, ТОЛЬКО JSON\n",
    "\"\"\"\n",
    "dataset = pd.DataFrame(columns=['query','positive','negative'])\n",
    "for i in range(200000):\n",
    "  response = ollama.chat(model='deepseek-r1:latest',\n",
    "                        messages=[{'role':'user','content':content}],\n",
    "                        options=options,\n",
    "                        format=Output.model_json_schema())\n",
    "\n",
    "  output = Output.model_validate_json(response.message.content)\n",
    "  dataset.loc[len(dataset)] = {'query':output.query,'positive':output.positive,'negative':output.negative}"
   ]
  },
  {
   "cell_type": "code",
   "execution_count": null,
   "id": "12207c71",
   "metadata": {},
   "outputs": [],
   "source": [
    "dataset.to_excel('Validation.xlsx')"
   ]
  }
 ],
 "metadata": {
  "language_info": {
   "name": "python"
  }
 },
 "nbformat": 4,
 "nbformat_minor": 5
}
