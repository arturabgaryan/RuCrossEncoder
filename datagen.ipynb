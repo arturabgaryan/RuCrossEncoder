{
 "cells": [
  {
   "cell_type": "code",
   "execution_count": null,
   "id": "4d511e91",
   "metadata": {},
   "outputs": [],
   "source": [
    "import ollama"
   ]
  },
  {
   "cell_type": "code",
   "execution_count": null,
   "id": "731cb2ce",
   "metadata": {},
   "outputs": [],
   "source": [
    "from pydantic import BaseModel\n",
    "\n",
    "class Output(BaseModel):\n",
    "  question: str\n",
    "  correct: str\n",
    "  incorrect: str\n",
    "\n",
    "options = {\n",
    "    'temperature': 0.7\n",
    "    'top-p': 0.9\n",
    "}\n",
    "\n",
    "content = \"\"\"\n",
    "Вывод осуществляется ТОЛЬКО на Русском языке, никаком больше\n",
    "\n",
    "Ты продвинутый ML инженер\n",
    "\n",
    "Твоя задача сгенерировать данные для обучения кросс энкодера. Данные должны выглядеть следующим образом:\n",
    "1) генерируешь любой вопрос на абсолютно любую тему\n",
    "2) генерируешь ответ на этот вопрос, правильный\n",
    "3) генерируешь неправильный ответ, который должен быть на совсем другой вопрос, совершенно не связанный\n",
    "\n",
    "\n",
    "Формат вывода:\n",
    "Это должен быть вывод в формате JSON, который выглядит следующим образом(далее шаблон):\n",
    "{{'question': Сгенерированный вопрос из пункта 1,'correct': сгенерированный правильный ответ из пункта 2, 'incorrect': сгенерированный неправильный ответ из пункта 3}}\n",
    "\n",
    "НЕ ВЫВОДИ НИЧЕГО КРОМЕ ШАБЛОНА, ТОЛЬКО JSON\n",
    "\"\"\"\n",
    "\n",
    "response = ollama.chat(model='deepseek-r1:latest',\n",
    "                       messages=[{'role':'user','content':content}],\n",
    "                       options=options,\n",
    "                       format=Output.model_json_schema())\n",
    "\n",
    "output = Output.model_validate_json(response.message.content)\n",
    "print(output.question)"
   ]
  }
 ],
 "metadata": {
  "language_info": {
   "name": "python"
  }
 },
 "nbformat": 4,
 "nbformat_minor": 5
}
